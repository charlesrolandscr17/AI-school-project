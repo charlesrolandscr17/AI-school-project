{
 "cells": [
  {
   "cell_type": "code",
   "execution_count": null,
   "metadata": {
    "_cell_guid": "b1076dfc-b9ad-4769-8c92-a6c4dae69d19",
    "_uuid": "8f2839f25d086af736a60e9eeb907d3b93b6e0e5",
    "tags": []
   },
   "outputs": [],
   "source": [
    "import numpy as np\n",
    "import pandas as pd\n",
    "\n",
    "import os"
   ]
  },
  {
   "cell_type": "code",
   "execution_count": null,
   "metadata": {
    "tags": []
   },
   "outputs": [],
   "source": [
    "from tensorflow import keras\n",
    "import tensorflow as tf\n",
    "from tensorflow.keras.preprocessing.image import ImageDataGenerator\n",
    "from tensorflow.keras import layers\n",
    "from tensorflow.keras import Model\n",
    "\n",
    "import matplotlib.pyplot as plt\n",
    "import numpy as np\n",
    "import cv2"
   ]
  },
  {
   "cell_type": "code",
   "execution_count": null,
   "metadata": {
    "scrolled": true,
    "tags": []
   },
   "outputs": [],
   "source": [
    "img_normal = cv2.imread(\"H:\\\\data\\\\Lung Disease Dataset\\\\train\\\\Normal\\\\07.jpeg\")\n",
    "img_tuber = cv2.imread(\"H:\\\\data\\\\Lung Disease Dataset\\\\train\\\\Tuberculosis\\\\test_0_14.jpeg\")\n",
    "img_covid = cv2.imread(\"H:\\\\data\\\\Lung Disease Dataset\\\\train\\\\Corona Virus Disease\\\\_8_7520889.jpeg\")\n",
    "img_bacterial = cv2.imread(\"H:\\\\data\\\\Lung Disease Dataset\\\\train\\\\Bacterial Pneumonia\\\\7.jpeg\")\n",
    "img_viral = cv2.imread(\"H:\\\\data\\\\Lung Disease Dataset\\\\train\\\\Viral Pneumonia\\\\03.jpeg\")"
   ]
  },
  {
   "cell_type": "code",
   "execution_count": null,
   "metadata": {},
   "outputs": [],
   "source": [
    "plt.imshow(img_normal)"
   ]
  },
  {
   "cell_type": "code",
   "execution_count": null,
   "metadata": {},
   "outputs": [],
   "source": [
    "heatmap_normal = cv2.applyColorMap(img_normal, cv2.COLORMAP_JET)\n",
    "heatmap_viral = cv2.applyColorMap(img_viral, cv2.COLORMAP_JET)\n",
    "heatmap_bacterial = cv2.applyColorMap(img_bacterial, cv2.COLORMAP_JET)\n",
    "heatmap_tuber = cv2.applyColorMap(img_tuber, cv2.COLORMAP_JET)\n",
    "heatmap_covid = cv2.applyColorMap(img_covid, cv2.COLORMAP_JET)"
   ]
  },
  {
   "cell_type": "code",
   "execution_count": null,
   "metadata": {},
   "outputs": [],
   "source": [
    "plt.imshow(heatmap_normal)"
   ]
  },
  {
   "cell_type": "code",
   "execution_count": null,
   "metadata": {},
   "outputs": [],
   "source": [
    "plt.imshow(heatmap_viral)"
   ]
  },
  {
   "cell_type": "code",
   "execution_count": null,
   "metadata": {},
   "outputs": [],
   "source": [
    "plt.imshow(heatmap_bacterial)"
   ]
  },
  {
   "cell_type": "code",
   "execution_count": null,
   "metadata": {},
   "outputs": [],
   "source": [
    "plt.imshow(heatmap_tuber)"
   ]
  },
  {
   "cell_type": "code",
   "execution_count": null,
   "metadata": {},
   "outputs": [],
   "source": [
    "plt.imshow(heatmap_covid)"
   ]
  },
  {
   "cell_type": "code",
   "execution_count": null,
   "metadata": {},
   "outputs": [],
   "source": [
    "traingen = ImageDataGenerator(rescale= 1./255,\n",
    "                             width_shift_range=0.2 , \n",
    "                             height_shift_range=0.2 ,\n",
    "                             zoom_range=0.2)\n",
    "valgen = ImageDataGenerator(rescale= 1./255)\n",
    "testgen = ImageDataGenerator(rescale= 1./255)"
   ]
  },
  {
   "cell_type": "code",
   "execution_count": null,
   "metadata": {},
   "outputs": [],
   "source": [
    "train_it = traingen.flow_from_directory(\"H:\\\\data\\\\Lung Disease Dataset\\\\train\", target_size = (224, 224))\n",
    "val_it = traingen.flow_from_directory(\"H:\\\\data\\\\Lung Disease Dataset\\\\val\", target_size = (224, 224))\n",
    "test_it = traingen.flow_from_directory(\"H:\\\\data\\\\Lung Disease Dataset\\\\test\", target_size = (224, 224))\n"
   ]
  },
  {
   "cell_type": "code",
   "execution_count": null,
   "metadata": {},
   "outputs": [],
   "source": [
    "plt.figure()\n",
    "plt.imshow(next(train_it)[0][0])\n",
    "plt.show()"
   ]
  },
  {
   "cell_type": "code",
   "execution_count": null,
   "metadata": {},
   "outputs": [],
   "source": [
    "base_model_201 = tf.keras.applications.DenseNet201(input_shape = (224, 224, 3),\n",
    "    include_top=False,\n",
    "    weights=\"imagenet\"\n",
    ")\n",
    "\n",
    "for layer in base_model_201.layers:\n",
    "  layer.trainable = False\n",
    "\n",
    "x = layers.Flatten()(base_model_201.output)  # base_model_201.output\n",
    "x = layers.Dropout(0.5)(x) # \n",
    "x = layers.Dense(512, activation= 'relu')(x)\n",
    "x = layers.Dense(5, activation = 'softmax')(x)\n",
    "\n",
    "model2 = tf.keras.models.Model(base_model_201.input, x)  # keras.models not keras.model\n",
    "\n",
    "model2.compile('adam', loss = 'categorical_crossentropy',metrics = ['acc'])"
   ]
  },
  {
   "cell_type": "code",
   "execution_count": null,
   "metadata": {},
   "outputs": [],
   "source": [
    "from tensorflow.keras.callbacks import ReduceLROnPlateau\n",
    "\n",
    "Checkpoint = tf.keras.callbacks.ModelCheckpoint(\"densenet201.hdf5\", monitor=\"val_acc\", save_best_only= True, mode=\"max\")\n",
    "reduce_lr = ReduceLROnPlateau(monitor= \"val_acc\", factor= 0.5, patience= 4, verbose= 3,cooldown=2,  mode= \"max\", min_lr= 0.0000001)\n",
    "\n",
    "model2.fit(train_it, validation_data= val_it, epochs=1, callbacks= [reduce_lr, Checkpoint], steps_per_epoch=60, validation_steps=10)"
   ]
  },
  {
   "cell_type": "code",
   "execution_count": null,
   "metadata": {},
   "outputs": [],
   "source": [
    "model_dense = keras.models.load_model('densenet201.hdf5')\n",
    "model_dense.evaluate(test_it, steps= 1)"
   ]
  },
  {
   "cell_type": "code",
   "execution_count": null,
   "metadata": {},
   "outputs": [],
   "source": [
    "pred = model_dense.predict(next(train_it)[0])\n",
    "plt.imshow(pred)"
   ]
  },
  {
   "cell_type": "code",
   "execution_count": null,
   "metadata": {},
   "outputs": [],
   "source": [
    "print(help(model_dense))"
   ]
  },
  {
   "cell_type": "code",
   "execution_count": null,
   "metadata": {},
   "outputs": [],
   "source": [
    "predictions = []\n",
    "for pred in model_dense.predict(next(test_it)[0]):\n",
    "    p = []\n",
    "    for i in pred:\n",
    "        p.append(float(i))\n",
    "    predictions.append(p)"
   ]
  },
  {
   "cell_type": "code",
   "execution_count": null,
   "metadata": {},
   "outputs": [],
   "source": [
    "predictions"
   ]
  },
  {
   "cell_type": "code",
   "execution_count": null,
   "metadata": {},
   "outputs": [],
   "source": []
  }
 ],
 "metadata": {
  "kernelspec": {
   "display_name": "Python 3 (ipykernel)",
   "language": "python",
   "name": "python3"
  },
  "language_info": {
   "codemirror_mode": {
    "name": "ipython",
    "version": 3
   },
   "file_extension": ".py",
   "mimetype": "text/x-python",
   "name": "python",
   "nbconvert_exporter": "python",
   "pygments_lexer": "ipython3",
   "version": "3.9.13"
  }
 },
 "nbformat": 4,
 "nbformat_minor": 4
}
